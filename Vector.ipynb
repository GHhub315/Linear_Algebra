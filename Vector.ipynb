{
 "cells": [
  {
   "cell_type": "code",
   "execution_count": 3,
   "metadata": {},
   "outputs": [],
   "source": [
    "import numpy as np \n",
    "\n",
    "asList = [1, 2, 3]\n",
    "asArray = np.array([1, 2, 3]) # 1 dimension\n",
    "rowVec = np.array([[1, 2, 3]]) # row\n",
    "colVec = np.array([[1],\n",
    "                 [2],\n",
    "                 [3]]) # col"
   ]
  },
  {
   "cell_type": "code",
   "execution_count": 4,
   "metadata": {},
   "outputs": [
    {
     "name": "stdout",
     "output_type": "stream",
     "text": [
      "asList : (3,)\n",
      "asArray: (3,)\n",
      "rowVec : (1, 3)\n",
      "colVec : (3, 1)\n"
     ]
    }
   ],
   "source": [
    "print(f'asList : {np.shape(asList)}')\n",
    "print(f'asArray: {asArray.shape}')\n",
    "print(f'rowVec : {rowVec.shape}')\n",
    "print(f'colVec : {colVec.shape}')"
   ]
  },
  {
   "cell_type": "code",
   "execution_count": 5,
   "metadata": {},
   "outputs": [
    {
     "data": {
      "text/plain": [
       "array([14, 25, 36])"
      ]
     },
     "execution_count": 5,
     "metadata": {},
     "output_type": "execute_result"
    }
   ],
   "source": [
    "v = np.array([4, 5, 6])\n",
    "w = np.array([10, 20, 30])\n",
    "u = np.array([0, 3, 6, 9])\n",
    "nPlusW = v + w\n",
    "# uPlusM = u + w # error, 벡터의 차원이 다름\n",
    "\n",
    "\n",
    "nPlusW"
   ]
  },
  {
   "cell_type": "code",
   "execution_count": 6,
   "metadata": {},
   "outputs": [
    {
     "data": {
      "text/plain": [
       "array([[14, 15, 16],\n",
       "       [24, 25, 26],\n",
       "       [34, 35, 36]])"
      ]
     },
     "execution_count": 6,
     "metadata": {},
     "output_type": "execute_result"
    }
   ],
   "source": [
    "# Broadcasting _ python\n",
    "\n",
    "v = np.array([[4, 5, 6]])\n",
    "w = np.array([[10, 20, 30]]).T # Transpose\n",
    "v + w\n"
   ]
  },
  {
   "cell_type": "code",
   "execution_count": 7,
   "metadata": {},
   "outputs": [
    {
     "name": "stdout",
     "output_type": "stream",
     "text": [
      "[3, 4, 5, 3, 4, 5]\n",
      "[ 6  8 10]\n"
     ]
    }
   ],
   "source": [
    "# Scalar - Vector multiplication\n",
    "\n",
    "s = 2#.0\n",
    "a = [3, 4, 5]\n",
    "b = np.array(a)\n",
    "print(a*s)\n",
    "print(b*s)"
   ]
  },
  {
   "cell_type": "code",
   "execution_count": 8,
   "metadata": {},
   "outputs": [
    {
     "data": {
      "text/plain": [
       "array([5, 8])"
      ]
     },
     "execution_count": 8,
     "metadata": {},
     "output_type": "execute_result"
    }
   ],
   "source": [
    "s = 2\n",
    "v = np.array([3, 6])\n",
    "s+v"
   ]
  },
  {
   "cell_type": "code",
   "execution_count": 9,
   "metadata": {},
   "outputs": [
    {
     "data": {
      "text/plain": [
       "array([[11, 21],\n",
       "       [12, 22],\n",
       "       [13, 23]])"
      ]
     },
     "execution_count": 9,
     "metadata": {},
     "output_type": "execute_result"
    }
   ],
   "source": [
    "v = np.array([[1, 2, 3]]).T\n",
    "w = np.array([[10, 20]])\n",
    "v+w"
   ]
  },
  {
   "cell_type": "code",
   "execution_count": 10,
   "metadata": {},
   "outputs": [
    {
     "name": "stdout",
     "output_type": "stream",
     "text": [
      "6 14.422205101855956\n"
     ]
    }
   ],
   "source": [
    "v = np.array([1, 2, 3, 7, 8, 9])\n",
    "v_dim = len(v)\n",
    "v_mag = np.linalg.norm(v)\n",
    "print(v_dim, v_mag)"
   ]
  },
  {
   "cell_type": "code",
   "execution_count": 11,
   "metadata": {},
   "outputs": [
    {
     "data": {
      "text/plain": [
       "70"
      ]
     },
     "execution_count": 11,
     "metadata": {},
     "output_type": "execute_result"
    }
   ],
   "source": [
    "# dot product\n",
    "v = np.array([1, 2, 3, 4])\n",
    "w = np.array([5, 6, 7, 8])\n",
    "np.dot(v,w) # 5 + 12 + 21 + 32"
   ]
  },
  {
   "cell_type": "code",
   "execution_count": 12,
   "metadata": {},
   "outputs": [
    {
     "data": {
      "text/plain": [
       "700"
      ]
     },
     "execution_count": 12,
     "metadata": {},
     "output_type": "execute_result"
    }
   ],
   "source": [
    "s = 10\n",
    "np.dot(s*v, w)"
   ]
  },
  {
   "cell_type": "code",
   "execution_count": 13,
   "metadata": {},
   "outputs": [
    {
     "name": "stdout",
     "output_type": "stream",
     "text": [
      "110 110\n"
     ]
    }
   ],
   "source": [
    "a = np.array([0, 1, 2])\n",
    "b = np.array([3, 5, 8])\n",
    "c = np.array([13, 21, 34])\n",
    "\n",
    "res1 = np.dot(a, b+c)\n",
    "res2 = np.dot(a, b) + np.dot(a, c)\n",
    "print(res1, res2)"
   ]
  },
  {
   "cell_type": "code",
   "execution_count": 14,
   "metadata": {},
   "outputs": [
    {
     "data": {
      "text/plain": [
       "array([ 5.,  0.,  4., -2.])"
      ]
     },
     "execution_count": 14,
     "metadata": {},
     "output_type": "execute_result"
    }
   ],
   "source": [
    "# Hardamard product\n",
    "a = np.array([5, 4, 8, 2])\n",
    "b = np.array([1, 0, .5, -1])\n",
    "a*b"
   ]
  },
  {
   "cell_type": "code",
   "execution_count": 15,
   "metadata": {},
   "outputs": [
    {
     "data": {
      "text/plain": [
       "0.26"
      ]
     },
     "execution_count": 15,
     "metadata": {},
     "output_type": "execute_result"
    }
   ],
   "source": [
    "# 직교벡터 분해 (p. 45)\n",
    "# orthogonal projection 직교 투영법\n",
    "\n",
    "a = np.array([6, 8])\n",
    "b = np.array([3, 1])\n",
    "beta = np.dot(a.T, b) / np.dot(a.T, a)\n",
    "beta"
   ]
  },
  {
   "cell_type": "code",
   "execution_count": 16,
   "metadata": {},
   "outputs": [
    {
     "data": {
      "text/plain": [
       "1.8000000000000003"
      ]
     },
     "execution_count": 16,
     "metadata": {},
     "output_type": "execute_result"
    }
   ],
   "source": [
    "# 피타고라스\n",
    "(np.linalg.norm(b)**2 - (beta*np.linalg.norm(a))**2)**0.5"
   ]
  },
  {
   "cell_type": "code",
   "execution_count": 17,
   "metadata": {},
   "outputs": [
    {
     "data": {
      "text/plain": [
       "1.8"
      ]
     },
     "execution_count": 17,
     "metadata": {},
     "output_type": "execute_result"
    }
   ],
   "source": [
    "# b - beta*a\n",
    "tmpVec = b - beta*a\n",
    "np.linalg.norm(tmpVec)"
   ]
  },
  {
   "cell_type": "code",
   "execution_count": 18,
   "metadata": {},
   "outputs": [],
   "source": [
    "# p. 50 https://github.com/Sancho-kim/LinAlg4DS"
   ]
  },
  {
   "cell_type": "code",
   "execution_count": 19,
   "metadata": {},
   "outputs": [
    {
     "data": {
      "text/plain": [
       "array([10, 23, 36, 49])"
      ]
     },
     "execution_count": 19,
     "metadata": {},
     "output_type": "execute_result"
    }
   ],
   "source": [
    "# 1-1\n",
    "\n",
    "w = np.array([10, 20, 30, 40])\n",
    "u = np.array([0, 3, 6, 9])\n",
    "\n",
    "u + w"
   ]
  },
  {
   "cell_type": "code",
   "execution_count": 20,
   "metadata": {},
   "outputs": [
    {
     "name": "stdout",
     "output_type": "stream",
     "text": [
      "Random vector: [ 0.49671415 -0.1382643   0.64768854]\n",
      "Unit vector: [ 0.60000205 -0.1670153   0.78237039]\n",
      "New vector with random magnitude: [ 0.93611503 -0.260575    1.22064365]\n",
      "[ 0.93611503 -0.260575    1.22064365] 1.560186404424365 1.560186404424365\n"
     ]
    }
   ],
   "source": [
    "# 1-2\n",
    "# p-norm\n",
    "\n",
    "def pNorm(X : np.array, p : int):\n",
    "    sum = 0\n",
    "    for x in X:\n",
    "        sum += x**p\n",
    "    return sum**(1/p)\n",
    "\n",
    "\n",
    "import numpy as np\n",
    "\n",
    "# 1. 임의의 난수 벡터 생성 (크기 3의 벡터)\n",
    "np.random.seed(42)\n",
    "\n",
    "random_vector = np.random.randn(3)\n",
    "print(\"Random vector:\", random_vector)\n",
    "\n",
    "# 2. 단위 벡터(방향만 유지) 구하기\n",
    "magnitude = np.linalg.norm(random_vector)  # 벡터의 크기 계산\n",
    "unit_vector = random_vector / magnitude    # 단위 벡터로 변환\n",
    "print(\"Unit vector:\", unit_vector)\n",
    "\n",
    "# 3. 난수로 크기 조정 (0에서 10 사이의 난수 크기)\n",
    "random_magnitude = np.random.uniform(0, 10)\n",
    "new_vector = unit_vector * random_magnitude  # 단위 벡터에 크기를 곱함\n",
    "print(\"New vector with random magnitude:\", new_vector)\n",
    "\n",
    "print(new_vector, np.linalg.norm(new_vector), pNorm(new_vector, 2))\n"
   ]
  },
  {
   "cell_type": "code",
   "execution_count": 21,
   "metadata": {},
   "outputs": [
    {
     "data": {
      "text/plain": [
       "array([ 0.60000205, -0.1670153 ,  0.78237039])"
      ]
     },
     "execution_count": 21,
     "metadata": {},
     "output_type": "execute_result"
    }
   ],
   "source": [
    "# 1-3\n",
    "\n",
    "def return_unit_vector(vec : np.array):\n",
    "    return vec / np.linalg.norm(vec)\n",
    "\n",
    "return_unit_vector(new_vector)"
   ]
  },
  {
   "cell_type": "code",
   "execution_count": 29,
   "metadata": {},
   "outputs": [
    {
     "data": {
      "text/plain": [
       "array([ 1.20000409, -0.3340306 ,  1.56474079])"
      ]
     },
     "execution_count": 29,
     "metadata": {},
     "output_type": "execute_result"
    }
   ],
   "source": [
    "# 1-4\n",
    "\n",
    "def parallel_vector(vec : np.array):\n",
    "    return return_unit_vector(vec) * np.random.randint(0, 100)\n",
    "\n",
    "myvec = parallel_vector(new_vector)\n",
    "myvec"
   ]
  },
  {
   "cell_type": "code",
   "execution_count": 30,
   "metadata": {},
   "outputs": [
    {
     "data": {
      "text/plain": [
       "array([[ 1.20000409],\n",
       "       [-0.3340306 ],\n",
       "       [ 1.56474079]])"
      ]
     },
     "execution_count": 30,
     "metadata": {},
     "output_type": "execute_result"
    }
   ],
   "source": [
    "# 1-5 ...\n",
    "import numpy as np\n",
    "\n",
    "def mTranspose(vec : np.array):\n",
    "\n",
    "    if len(vec.shape) == 1:\n",
    "        vec = np.array([vec])\n",
    "\n",
    "    rtn = np.zeros((vec.shape[1], vec.shape[0]))\n",
    "    \n",
    "    for i in range(rtn.shape[0]):\n",
    "        for j in range(rtn.shape[1]):\n",
    "            rtn[i, j] = vec[j, i]\n",
    "    return rtn\n",
    "\n",
    "mTranspose(myvec)"
   ]
  },
  {
   "cell_type": "code",
   "execution_count": 34,
   "metadata": {},
   "outputs": [
    {
     "data": {
      "text/plain": [
       "4.0"
      ]
     },
     "execution_count": 34,
     "metadata": {},
     "output_type": "execute_result"
    }
   ],
   "source": [
    "# 1-6\n",
    "\n",
    "def myNorm(vec : np.array):\n",
    "    return sum(v**2 for v in vec)\n",
    "\n",
    "myNorm(myvec)"
   ]
  },
  {
   "cell_type": "code",
   "execution_count": 38,
   "metadata": {},
   "outputs": [
    {
     "name": "stdout",
     "output_type": "stream",
     "text": [
      "110 110\n"
     ]
    }
   ],
   "source": [
    "# 1-7\n",
    "\n",
    "def inner_product_commutativity(vec1 : np.array, vec2 : np.array):\n",
    "    res1, res2 = 0, 0\n",
    "    res1 = sum(a*b for a, b in zip(vec1, vec2))\n",
    "    res2 = sum(a*b for a, b in zip(vec2, vec1))\n",
    "\n",
    "print(res1, res2)\n"
   ]
  },
  {
   "cell_type": "code",
   "execution_count": 63,
   "metadata": {},
   "outputs": [
    {
     "data": {
      "text/plain": [
       "0.26"
      ]
     },
     "execution_count": 63,
     "metadata": {},
     "output_type": "execute_result"
    }
   ],
   "source": [
    "# 1-8\n",
    "\n",
    "import numpy as np\n",
    "\n",
    "# a^T(b-Beta*a) = 0\n",
    "# Beta = (a^Tb)/(a^Ta)\n",
    "\n",
    "def Beta(aVec : np.array, bVec : np.array):\n",
    "    return sum(a*b for a, b in zip(aVec, bVec))/sum(a*b for a, b in zip(aVec, aVec))\n",
    "\n",
    "Beta(np.array([6, 8]), np.array([3, 1]))"
   ]
  },
  {
   "cell_type": "code",
   "execution_count": 65,
   "metadata": {},
   "outputs": [
    {
     "name": "stdout",
     "output_type": "stream",
     "text": [
      "[ 0.20765167 -0.05780148] [0.44003687 1.58083134]\n"
     ]
    }
   ],
   "source": [
    "# 1-9\n",
    "\n",
    "np.random.seed(42)\n",
    "\n",
    "r = np.random.randn(2)\n",
    "t = np.random.randn(2)\n",
    "\n",
    "t_parallel_to_r = r*Beta(r, t)\n",
    "t_perpendicular_to_r = t - t_parallel_to_r\n",
    "\n",
    "print(t_parallel_to_r, t_perpendicular_to_r)\n"
   ]
  },
  {
   "cell_type": "code",
   "execution_count": 66,
   "metadata": {},
   "outputs": [
    {
     "data": {
      "text/plain": [
       "-2.7755575615628914e-17"
      ]
     },
     "execution_count": 66,
     "metadata": {},
     "output_type": "execute_result"
    }
   ],
   "source": [
    "# 1-10\n",
    "sum(R*TPTR for R, TPTR in zip(r, t_perpendicular_to_r))"
   ]
  },
  {
   "cell_type": "code",
   "execution_count": null,
   "metadata": {},
   "outputs": [],
   "source": []
  }
 ],
 "metadata": {
  "kernelspec": {
   "display_name": "Python 3",
   "language": "python",
   "name": "python3"
  },
  "language_info": {
   "codemirror_mode": {
    "name": "ipython",
    "version": 3
   },
   "file_extension": ".py",
   "mimetype": "text/x-python",
   "name": "python",
   "nbconvert_exporter": "python",
   "pygments_lexer": "ipython3",
   "version": "3.12.5"
  }
 },
 "nbformat": 4,
 "nbformat_minor": 2
}
